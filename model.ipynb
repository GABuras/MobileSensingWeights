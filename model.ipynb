{
 "cells": [
  {
   "cell_type": "code",
   "execution_count": 33,
   "metadata": {},
   "outputs": [],
   "source": [
    "### THIS CELL IMPORTS THE SPECTROGRAMS AND CREATES META FILE###\n",
    "\n",
    "import pandas as pd\n",
    "import os\n",
    "picID = 1\n",
    "\n",
    "meta = []\n",
    "for weight in ['20kg', '40kg']:\n",
    "     location = os.path.dirname(\"./Spectograms/Training/\" + weight + \"/\")\n",
    "     directory = os.fsencode(location)\n",
    "     for files in os.listdir(directory):\n",
    "          \n",
    "          meta.append((picID, weight))\n",
    "          picID+=1\n",
    "\n",
    "df = pd.DataFrame(meta, columns= ['picID', 'weight'])\n",
    "df.to_csv(\"meta.csv\", index = False)"
   ]
  },
  {
   "cell_type": "code",
   "execution_count": 35,
   "metadata": {},
   "outputs": [
    {
     "ename": "ModuleNotFoundError",
     "evalue": "No module named 'monk'",
     "output_type": "error",
     "traceback": [
      "\u001b[1;31m---------------------------------------------------------------------------\u001b[0m",
      "\u001b[1;31mModuleNotFoundError\u001b[0m                       Traceback (most recent call last)",
      "Cell \u001b[1;32mIn[35], line 6\u001b[0m\n\u001b[0;32m      3\u001b[0m \u001b[39mimport\u001b[39;00m \u001b[39mos\u001b[39;00m\n\u001b[0;32m      4\u001b[0m \u001b[39mimport\u001b[39;00m \u001b[39msys\u001b[39;00m\n\u001b[1;32m----> 6\u001b[0m \u001b[39mfrom\u001b[39;00m \u001b[39mmonk\u001b[39;00m\u001b[39m.\u001b[39;00m\u001b[39mpytorch_prototype\u001b[39;00m \u001b[39mimport\u001b[39;00m prototype\n\u001b[0;32m      8\u001b[0m \u001b[39m# Creating/Loading a Project and an Experiment\u001b[39;00m\n\u001b[0;32m      9\u001b[0m \u001b[39m# Project name: Make_classifier; Experiment name: inception-v3-pytorch\u001b[39;00m\n\u001b[0;32m     10\u001b[0m ptf \u001b[39m=\u001b[39m prototype(verbose\u001b[39m=\u001b[39m\u001b[39m1\u001b[39m)\n",
      "\u001b[1;31mModuleNotFoundError\u001b[0m: No module named 'monk'"
     ]
    }
   ],
   "source": [
    "## IMPORTS AI###\n",
    "\n",
    "import os\n",
    "import sys\n",
    "\n",
    "from monk.pytorch_prototype import prototype\n",
    "\n",
    "# Creating/Loading a Project and an Experiment\n",
    "# Project name: Make_classifier; Experiment name: inception-v3-pytorch\n",
    "ptf = prototype(verbose=1)\n",
    "ptf.Prototype(\"Weight_classifier\", \"inception-v3-pytorch\")"
   ]
  },
  {
   "cell_type": "code",
   "execution_count": null,
   "metadata": {},
   "outputs": [],
   "source": [
    "ptf.Dataset_Params(dataset_path=\"Spectograms\\Training\",\n",
    "                   path_to_csv=\"meta.csv\",\n",
    "                   split=0.8, input_size=299, \n",
    "                   batch_size=128, \n",
    "                   shuffle_data=True, \n",
    "                   num_processors=3)\n",
    "\n",
    "\n",
    "\n",
    "# Set Dataset\n",
    "ptf.Dataset()"
   ]
  },
  {
   "cell_type": "code",
   "execution_count": null,
   "metadata": {},
   "outputs": [],
   "source": [
    "### THIS CELL HANDLES THE MODEL SETUP###\n",
    "\n",
    "# Set model parameters\n",
    "ptf.Model_Params(model_name=\"inception_v3\", freeze_base_network=True, use_gpu=True, use_pretrained=True);\n",
    "\n",
    "# Load model\n",
    "ptf.Model()\n",
    "\n",
    "# Freeze first 100 layers of the pretrained model\n",
    "ptf.Freeze_Layers(num=100)\n",
    "\n",
    "# Set Training parameters\n",
    "ptf.Training_Params(num_epochs=5, display_progress=True,\n",
    "                    display_progress_realtime=True, \n",
    "                    save_intermediate_models=True,\n",
    "                    save_training_logs=True)\n",
    "\n",
    "# Using RMSprop optimizer with learning rate as 0.06\n",
    "ptf.optimizer_sgd(0.06)\n",
    "\n",
    "# For fixed learning rate\n",
    "ptf.lr_fixed()\n",
    "# Use gtf.List_Losses() to get a list of available loss functions\n",
    "ptf.loss_softmax_crossentropy()\n",
    "\n",
    "# Start training\n",
    "ptf.Train()\n",
    "\n",
    "# Increase the number of epochs for longer training, if required\n",
    "ptf.update_num_epochs(25)\n",
    "\n",
    "# Reload model after updating the parameter\n",
    "ptf.Reload()\n",
    "\n",
    "# Continue training\n",
    "ptf.Train()"
   ]
  }
 ],
 "metadata": {
  "kernelspec": {
   "display_name": "Python 3.9.2 64-bit",
   "language": "python",
   "name": "python3"
  },
  "language_info": {
   "codemirror_mode": {
    "name": "ipython",
    "version": 3
   },
   "file_extension": ".py",
   "mimetype": "text/x-python",
   "name": "python",
   "nbconvert_exporter": "python",
   "pygments_lexer": "ipython3",
   "version": "3.9.2"
  },
  "orig_nbformat": 4,
  "vscode": {
   "interpreter": {
    "hash": "54c78228d85321604716cfecb5ca7ecf94bdd82065f961259b11b8ae1cc37f00"
   }
  }
 },
 "nbformat": 4,
 "nbformat_minor": 2
}
